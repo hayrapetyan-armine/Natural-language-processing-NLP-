{
  "nbformat": 4,
  "nbformat_minor": 0,
  "metadata": {
    "colab": {
      "name": "Custom word embedding NLP.ipynb",
      "provenance": []
    },
    "kernelspec": {
      "name": "python3",
      "display_name": "Python 3"
    }
  },
  "cells": [
    {
      "cell_type": "markdown",
      "metadata": {
        "id": "aU6EmVuJ-kxx",
        "colab_type": "text"
      },
      "source": [
        "# Custom Word Embeddings"
      ]
    },
    {
      "cell_type": "code",
      "metadata": {
        "id": "fKtG80Jb97ap",
        "colab_type": "code",
        "colab": {}
      },
      "source": [
        "from numpy import array\n",
        "from keras.preprocessing.text import one_hot\n",
        "from keras.preprocessing.sequence import pad_sequences\n",
        "from keras.models import Sequential\n",
        "from keras.layers import Dense\n",
        "from keras.layers import Flatten\n",
        "from keras.layers.embeddings import Embedding"
      ],
      "execution_count": 0,
      "outputs": []
    },
    {
      "cell_type": "code",
      "metadata": {
        "id": "NlrQr1Bd-CMT",
        "colab_type": "code",
        "colab": {}
      },
      "source": [
        "corpus = [\n",
        "    # Positive Reviews\n",
        "\n",
        "    'This is an excellent movie',\n",
        "    'The move was fantastic I like it',\n",
        "    'You should watch it is brilliant',\n",
        "    'Exceptionally good',\n",
        "    'Wonderfully directed and executed I like it',\n",
        "    'Its a fantastic series',\n",
        "    'Never watched such a brillent movie',\n",
        "    'It is a Wonderful movie',\n",
        "\n",
        "    # Negtive Reviews\n",
        "\n",
        "    \"horrible acting\",\n",
        "    'waste of money',\n",
        "    'pathetic picture',\n",
        "    'It was very boring',\n",
        "    'I did not like the movie',\n",
        "    'The movie was horrible',\n",
        "    'I will not recommend',\n",
        "    'The acting is pathetic'\n",
        "]"
      ],
      "execution_count": 0,
      "outputs": []
    },
    {
      "cell_type": "code",
      "metadata": {
        "id": "1nz4Hvrc_CxA",
        "colab_type": "code",
        "colab": {}
      },
      "source": [
        "sentiments = array([1,1,1,1,1,1,1,1,0,0,0,0,0,0,0,0])"
      ],
      "execution_count": 0,
      "outputs": []
    },
    {
      "cell_type": "markdown",
      "metadata": {
        "id": "gbVpSgD4-_md",
        "colab_type": "text"
      },
      "source": [
        "## Let's first find the total number of words in our corpus:"
      ]
    },
    {
      "cell_type": "code",
      "metadata": {
        "id": "DuH5_J6U_P9Y",
        "colab_type": "code",
        "colab": {
          "base_uri": "https://localhost:8080/",
          "height": 68
        },
        "outputId": "ad5d6b06-d9c6-44c5-c205-a1ce4f0d4466"
      },
      "source": [
        "nltk.download('punkt')"
      ],
      "execution_count": 11,
      "outputs": [
        {
          "output_type": "stream",
          "text": [
            "[nltk_data] Downloading package punkt to /root/nltk_data...\n",
            "[nltk_data]   Unzipping tokenizers/punkt.zip.\n"
          ],
          "name": "stdout"
        },
        {
          "output_type": "execute_result",
          "data": {
            "text/plain": [
              "True"
            ]
          },
          "metadata": {
            "tags": []
          },
          "execution_count": 11
        }
      ]
    },
    {
      "cell_type": "code",
      "metadata": {
        "id": "IgPmSKdM-vUY",
        "colab_type": "code",
        "colab": {}
      },
      "source": [
        "from nltk.tokenize import word_tokenize\n",
        "\n",
        "all_words = []\n",
        "for sent in corpus:\n",
        "    tokenize_word = word_tokenize(sent)\n",
        "    for word in tokenize_word:\n",
        "        all_words.append(word)"
      ],
      "execution_count": 0,
      "outputs": []
    },
    {
      "cell_type": "code",
      "metadata": {
        "id": "GTrqFE5u-4Nf",
        "colab_type": "code",
        "colab": {
          "base_uri": "https://localhost:8080/",
          "height": 34
        },
        "outputId": "230d69c4-772a-40dc-c3a6-7c398c75d38b"
      },
      "source": [
        "unique_words = set(all_words)\n",
        "print(len(unique_words))"
      ],
      "execution_count": 16,
      "outputs": [
        {
          "output_type": "stream",
          "text": [
            "45\n"
          ],
          "name": "stdout"
        }
      ]
    },
    {
      "cell_type": "markdown",
      "metadata": {
        "id": "jIq6JFK4_oB7",
        "colab_type": "text"
      },
      "source": [
        "### In the output you will see \"45\", which is the number of unique words in our corpus. We will add a buffer of 5 to our vocabulary size and will set the value of vocab_length to 50."
      ]
    },
    {
      "cell_type": "markdown",
      "metadata": {
        "id": "FyyfSU0T_wby",
        "colab_type": "text"
      },
      "source": [
        "The Embedding layer expects the words to be in numeric form. Therefore, we need to convert the sentences in our corpus to numbers. One way to convert text to numbers is by using the one_hot function from the keras.preprocessing.text library. The function takes sentence and the total length of the vocabulary and returns the sentence in numeric form."
      ]
    },
    {
      "cell_type": "code",
      "metadata": {
        "id": "RnQkEoJoCWO3",
        "colab_type": "code",
        "colab": {}
      },
      "source": [
        "vocab_length = 50"
      ],
      "execution_count": 0,
      "outputs": []
    },
    {
      "cell_type": "code",
      "metadata": {
        "id": "1j_pblVh_q-p",
        "colab_type": "code",
        "colab": {
          "base_uri": "https://localhost:8080/",
          "height": 289
        },
        "outputId": "c9298adf-b6d9-4e68-fec0-d601fa5dcaf5"
      },
      "source": [
        "for sent in corpus:\n",
        "  print(sent, one_hot(sent, vocab_length))"
      ],
      "execution_count": 20,
      "outputs": [
        {
          "output_type": "stream",
          "text": [
            "This is an excellent movie [36, 44, 29, 27, 39]\n",
            "The move was fantastic I like it [29, 37, 5, 22, 8, 28, 42]\n",
            "You should watch it is brilliant [3, 11, 14, 42, 44, 11]\n",
            "Exceptionally good [27, 42]\n",
            "Wonderfully directed and executed I like it [37, 22, 43, 25, 8, 28, 42]\n",
            "Its a fantastic series [23, 39, 22, 49]\n",
            "Never watched such a brillent movie [9, 44, 37, 39, 36, 39]\n",
            "It is a Wonderful movie [42, 44, 39, 8, 39]\n",
            "horrible acting [45, 46]\n",
            "waste of money [35, 1, 29]\n",
            "pathetic picture [33, 22]\n",
            "It was very boring [42, 5, 25, 24]\n",
            "I did not like the movie [8, 23, 19, 28, 29, 39]\n",
            "The movie was horrible [29, 39, 5, 45]\n",
            "I will not recommend [8, 39, 19, 42]\n",
            "The acting is pathetic [29, 46, 44, 33]\n"
          ],
          "name": "stdout"
        }
      ]
    },
    {
      "cell_type": "code",
      "metadata": {
        "id": "JTEkrO5BBmdy",
        "colab_type": "code",
        "colab": {
          "base_uri": "https://localhost:8080/",
          "height": 54
        },
        "outputId": "ff21516a-776f-49c8-cdcc-9ee86044544a"
      },
      "source": [
        "embedded_sentences = [one_hot(sent, vocab_length) for sent in corpus]\n",
        "print(embedded_sentences )"
      ],
      "execution_count": 21,
      "outputs": [
        {
          "output_type": "stream",
          "text": [
            "[[36, 44, 29, 27, 39], [29, 37, 5, 22, 8, 28, 42], [3, 11, 14, 42, 44, 11], [27, 42], [37, 22, 43, 25, 8, 28, 42], [23, 39, 22, 49], [9, 44, 37, 39, 36, 39], [42, 44, 39, 8, 39], [45, 46], [35, 1, 29], [33, 22], [42, 5, 25, 24], [8, 23, 19, 28, 29, 39], [29, 39, 5, 45], [8, 39, 19, 42], [29, 46, 44, 33]]\n"
          ],
          "name": "stdout"
        }
      ]
    },
    {
      "cell_type": "code",
      "metadata": {
        "id": "xe7ZdLhdBml5",
        "colab_type": "code",
        "colab": {}
      },
      "source": [
        "word_count = lambda sentence: len(word_tokenize(sentence))\n",
        "longest_sentence = max(corpus, key=word_count)\n",
        "length_long_sentence = len(word_tokenize(longest_sentence))"
      ],
      "execution_count": 0,
      "outputs": []
    },
    {
      "cell_type": "code",
      "metadata": {
        "id": "ub6Ln03fD-yb",
        "colab_type": "code",
        "colab": {
          "base_uri": "https://localhost:8080/",
          "height": 34
        },
        "outputId": "08ee85fc-c9cb-442c-8f5b-9a87cb90f93c"
      },
      "source": [
        "length_long_sentence"
      ],
      "execution_count": 25,
      "outputs": [
        {
          "output_type": "execute_result",
          "data": {
            "text/plain": [
              "7"
            ]
          },
          "metadata": {
            "tags": []
          },
          "execution_count": 25
        }
      ]
    },
    {
      "cell_type": "code",
      "metadata": {
        "id": "dOupGnWxENLt",
        "colab_type": "code",
        "colab": {
          "base_uri": "https://localhost:8080/",
          "height": 289
        },
        "outputId": "75fdcb6d-d348-4f0f-df48-91f881a8f3ff"
      },
      "source": [
        "padded_sentences = pad_sequences(embedded_sentences, length_long_sentence, padding='post')\n",
        "print(padded_sentences)"
      ],
      "execution_count": 26,
      "outputs": [
        {
          "output_type": "stream",
          "text": [
            "[[36 44 29 27 39  0  0]\n",
            " [29 37  5 22  8 28 42]\n",
            " [ 3 11 14 42 44 11  0]\n",
            " [27 42  0  0  0  0  0]\n",
            " [37 22 43 25  8 28 42]\n",
            " [23 39 22 49  0  0  0]\n",
            " [ 9 44 37 39 36 39  0]\n",
            " [42 44 39  8 39  0  0]\n",
            " [45 46  0  0  0  0  0]\n",
            " [35  1 29  0  0  0  0]\n",
            " [33 22  0  0  0  0  0]\n",
            " [42  5 25 24  0  0  0]\n",
            " [ 8 23 19 28 29 39  0]\n",
            " [29 39  5 45  0  0  0]\n",
            " [ 8 39 19 42  0  0  0]\n",
            " [29 46 44 33  0  0  0]]\n"
          ],
          "name": "stdout"
        }
      ]
    },
    {
      "cell_type": "code",
      "metadata": {
        "id": "5UtkGX97EttT",
        "colab_type": "code",
        "colab": {
          "base_uri": "https://localhost:8080/",
          "height": 105
        },
        "outputId": "86dd9ac0-e769-4c30-88dc-fa914aaf1a77"
      },
      "source": [
        "model = Sequential()\n",
        "model.add(Embedding(vocab_length, 20, input_length=length_long_sentence))\n",
        "model.add(Flatten())\n",
        "model.add(Dense(1, activation='sigmoid'))"
      ],
      "execution_count": 27,
      "outputs": [
        {
          "output_type": "stream",
          "text": [
            "WARNING:tensorflow:From /usr/local/lib/python3.6/dist-packages/keras/backend/tensorflow_backend.py:541: The name tf.placeholder is deprecated. Please use tf.compat.v1.placeholder instead.\n",
            "\n",
            "WARNING:tensorflow:From /usr/local/lib/python3.6/dist-packages/keras/backend/tensorflow_backend.py:4432: The name tf.random_uniform is deprecated. Please use tf.random.uniform instead.\n",
            "\n"
          ],
          "name": "stdout"
        }
      ]
    },
    {
      "cell_type": "code",
      "metadata": {
        "id": "Tou3DsZiFokm",
        "colab_type": "code",
        "colab": {
          "base_uri": "https://localhost:8080/",
          "height": 411
        },
        "outputId": "d4d57022-418b-4105-e977-43e3b576bfcc"
      },
      "source": [
        "model.compile(optimizer='adam', loss='binary_crossentropy', metrics=['acc'])\n",
        "print(model.summary())"
      ],
      "execution_count": 28,
      "outputs": [
        {
          "output_type": "stream",
          "text": [
            "WARNING:tensorflow:From /usr/local/lib/python3.6/dist-packages/keras/optimizers.py:793: The name tf.train.Optimizer is deprecated. Please use tf.compat.v1.train.Optimizer instead.\n",
            "\n",
            "WARNING:tensorflow:From /usr/local/lib/python3.6/dist-packages/keras/backend/tensorflow_backend.py:3657: The name tf.log is deprecated. Please use tf.math.log instead.\n",
            "\n",
            "WARNING:tensorflow:From /tensorflow-1.15.0/python3.6/tensorflow_core/python/ops/nn_impl.py:183: where (from tensorflow.python.ops.array_ops) is deprecated and will be removed in a future version.\n",
            "Instructions for updating:\n",
            "Use tf.where in 2.0, which has the same broadcast rule as np.where\n",
            "Model: \"sequential_1\"\n",
            "_________________________________________________________________\n",
            "Layer (type)                 Output Shape              Param #   \n",
            "=================================================================\n",
            "embedding_2 (Embedding)      (None, 7, 20)             1000      \n",
            "_________________________________________________________________\n",
            "flatten_1 (Flatten)          (None, 140)               0         \n",
            "_________________________________________________________________\n",
            "dense_1 (Dense)              (None, 1)                 141       \n",
            "=================================================================\n",
            "Total params: 1,141\n",
            "Trainable params: 1,141\n",
            "Non-trainable params: 0\n",
            "_________________________________________________________________\n",
            "None\n"
          ],
          "name": "stdout"
        }
      ]
    },
    {
      "cell_type": "markdown",
      "metadata": {
        "id": "zQWNAnGhIMw8",
        "colab_type": "text"
      },
      "source": [
        "You can see that the first layer has 1000 trainable parameters. This is because our vocabulary size is 50 and each word will be presented as a 20 dimensional vector. Hence the total number of trainable parameters will be 1000. Similarly, the output from the embedding layer will be a sentence with 7 words where each word is represented by a 20 dimensional vector. However, when the 2D output is flattened, we get a 140 dimensional vector (7 x 20). The flattened vector is directly connected to the dense layer that contains 1 neuran."
      ]
    },
    {
      "cell_type": "code",
      "metadata": {
        "id": "-FYoKtdTGtU8",
        "colab_type": "code",
        "colab": {
          "base_uri": "https://localhost:8080/",
          "height": 1000
        },
        "outputId": "3f7cfca9-b327-4e26-b808-a1b57d29168e"
      },
      "source": [
        "model.fit(padded_sentences, sentiments, epochs=100, verbose=1)"
      ],
      "execution_count": 29,
      "outputs": [
        {
          "output_type": "stream",
          "text": [
            "WARNING:tensorflow:From /usr/local/lib/python3.6/dist-packages/keras/backend/tensorflow_backend.py:1033: The name tf.assign_add is deprecated. Please use tf.compat.v1.assign_add instead.\n",
            "\n",
            "WARNING:tensorflow:From /usr/local/lib/python3.6/dist-packages/keras/backend/tensorflow_backend.py:1020: The name tf.assign is deprecated. Please use tf.compat.v1.assign instead.\n",
            "\n",
            "WARNING:tensorflow:From /usr/local/lib/python3.6/dist-packages/keras/backend/tensorflow_backend.py:3005: The name tf.Session is deprecated. Please use tf.compat.v1.Session instead.\n",
            "\n",
            "Epoch 1/100\n",
            "WARNING:tensorflow:From /usr/local/lib/python3.6/dist-packages/keras/backend/tensorflow_backend.py:190: The name tf.get_default_session is deprecated. Please use tf.compat.v1.get_default_session instead.\n",
            "\n",
            "WARNING:tensorflow:From /usr/local/lib/python3.6/dist-packages/keras/backend/tensorflow_backend.py:197: The name tf.ConfigProto is deprecated. Please use tf.compat.v1.ConfigProto instead.\n",
            "\n",
            "WARNING:tensorflow:From /usr/local/lib/python3.6/dist-packages/keras/backend/tensorflow_backend.py:207: The name tf.global_variables is deprecated. Please use tf.compat.v1.global_variables instead.\n",
            "\n",
            "WARNING:tensorflow:From /usr/local/lib/python3.6/dist-packages/keras/backend/tensorflow_backend.py:216: The name tf.is_variable_initialized is deprecated. Please use tf.compat.v1.is_variable_initialized instead.\n",
            "\n",
            "WARNING:tensorflow:From /usr/local/lib/python3.6/dist-packages/keras/backend/tensorflow_backend.py:223: The name tf.variables_initializer is deprecated. Please use tf.compat.v1.variables_initializer instead.\n",
            "\n",
            "16/16 [==============================] - 1s 46ms/step - loss: 0.6856 - acc: 0.5000\n",
            "Epoch 2/100\n",
            "16/16 [==============================] - 0s 167us/step - loss: 0.6830 - acc: 0.5625\n",
            "Epoch 3/100\n",
            "16/16 [==============================] - 0s 142us/step - loss: 0.6800 - acc: 0.6250\n",
            "Epoch 4/100\n",
            "16/16 [==============================] - 0s 209us/step - loss: 0.6769 - acc: 0.6250\n",
            "Epoch 5/100\n",
            "16/16 [==============================] - 0s 157us/step - loss: 0.6734 - acc: 0.6250\n",
            "Epoch 6/100\n",
            "16/16 [==============================] - 0s 307us/step - loss: 0.6699 - acc: 0.6250\n",
            "Epoch 7/100\n",
            "16/16 [==============================] - 0s 212us/step - loss: 0.6665 - acc: 0.6875\n",
            "Epoch 8/100\n",
            "16/16 [==============================] - 0s 183us/step - loss: 0.6631 - acc: 0.7500\n",
            "Epoch 9/100\n",
            "16/16 [==============================] - 0s 178us/step - loss: 0.6597 - acc: 0.7500\n",
            "Epoch 10/100\n",
            "16/16 [==============================] - 0s 138us/step - loss: 0.6562 - acc: 0.8750\n",
            "Epoch 11/100\n",
            "16/16 [==============================] - 0s 149us/step - loss: 0.6527 - acc: 0.8750\n",
            "Epoch 12/100\n",
            "16/16 [==============================] - 0s 136us/step - loss: 0.6492 - acc: 0.9375\n",
            "Epoch 13/100\n",
            "16/16 [==============================] - 0s 133us/step - loss: 0.6457 - acc: 0.9375\n",
            "Epoch 14/100\n",
            "16/16 [==============================] - 0s 131us/step - loss: 0.6421 - acc: 0.9375\n",
            "Epoch 15/100\n",
            "16/16 [==============================] - 0s 137us/step - loss: 0.6386 - acc: 0.9375\n",
            "Epoch 16/100\n",
            "16/16 [==============================] - 0s 139us/step - loss: 0.6350 - acc: 0.9375\n",
            "Epoch 17/100\n",
            "16/16 [==============================] - 0s 147us/step - loss: 0.6314 - acc: 0.9375\n",
            "Epoch 18/100\n",
            "16/16 [==============================] - 0s 124us/step - loss: 0.6277 - acc: 0.9375\n",
            "Epoch 19/100\n",
            "16/16 [==============================] - 0s 143us/step - loss: 0.6240 - acc: 0.9375\n",
            "Epoch 20/100\n",
            "16/16 [==============================] - 0s 120us/step - loss: 0.6203 - acc: 0.9375\n",
            "Epoch 21/100\n",
            "16/16 [==============================] - 0s 131us/step - loss: 0.6166 - acc: 0.9375\n",
            "Epoch 22/100\n",
            "16/16 [==============================] - 0s 141us/step - loss: 0.6129 - acc: 0.9375\n",
            "Epoch 23/100\n",
            "16/16 [==============================] - 0s 138us/step - loss: 0.6091 - acc: 0.9375\n",
            "Epoch 24/100\n",
            "16/16 [==============================] - 0s 117us/step - loss: 0.6053 - acc: 0.9375\n",
            "Epoch 25/100\n",
            "16/16 [==============================] - 0s 141us/step - loss: 0.6014 - acc: 0.9375\n",
            "Epoch 26/100\n",
            "16/16 [==============================] - 0s 198us/step - loss: 0.5975 - acc: 0.9375\n",
            "Epoch 27/100\n",
            "16/16 [==============================] - 0s 165us/step - loss: 0.5936 - acc: 0.9375\n",
            "Epoch 28/100\n",
            "16/16 [==============================] - 0s 128us/step - loss: 0.5896 - acc: 0.9375\n",
            "Epoch 29/100\n",
            "16/16 [==============================] - 0s 145us/step - loss: 0.5857 - acc: 0.9375\n",
            "Epoch 30/100\n",
            "16/16 [==============================] - 0s 127us/step - loss: 0.5817 - acc: 0.9375\n",
            "Epoch 31/100\n",
            "16/16 [==============================] - 0s 180us/step - loss: 0.5776 - acc: 0.9375\n",
            "Epoch 32/100\n",
            "16/16 [==============================] - 0s 162us/step - loss: 0.5735 - acc: 0.9375\n",
            "Epoch 33/100\n",
            "16/16 [==============================] - 0s 157us/step - loss: 0.5694 - acc: 0.9375\n",
            "Epoch 34/100\n",
            "16/16 [==============================] - 0s 111us/step - loss: 0.5653 - acc: 0.9375\n",
            "Epoch 35/100\n",
            "16/16 [==============================] - 0s 108us/step - loss: 0.5611 - acc: 0.9375\n",
            "Epoch 36/100\n",
            "16/16 [==============================] - 0s 131us/step - loss: 0.5569 - acc: 0.9375\n",
            "Epoch 37/100\n",
            "16/16 [==============================] - 0s 199us/step - loss: 0.5526 - acc: 0.9375\n",
            "Epoch 38/100\n",
            "16/16 [==============================] - 0s 195us/step - loss: 0.5484 - acc: 0.9375\n",
            "Epoch 39/100\n",
            "16/16 [==============================] - 0s 143us/step - loss: 0.5441 - acc: 0.9375\n",
            "Epoch 40/100\n",
            "16/16 [==============================] - 0s 116us/step - loss: 0.5397 - acc: 0.9375\n",
            "Epoch 41/100\n",
            "16/16 [==============================] - 0s 223us/step - loss: 0.5354 - acc: 0.9375\n",
            "Epoch 42/100\n",
            "16/16 [==============================] - 0s 221us/step - loss: 0.5310 - acc: 0.9375\n",
            "Epoch 43/100\n",
            "16/16 [==============================] - 0s 237us/step - loss: 0.5266 - acc: 0.9375\n",
            "Epoch 44/100\n",
            "16/16 [==============================] - 0s 215us/step - loss: 0.5222 - acc: 0.9375\n",
            "Epoch 45/100\n",
            "16/16 [==============================] - 0s 211us/step - loss: 0.5177 - acc: 0.9375\n",
            "Epoch 46/100\n",
            "16/16 [==============================] - 0s 279us/step - loss: 0.5133 - acc: 0.9375\n",
            "Epoch 47/100\n",
            "16/16 [==============================] - 0s 104us/step - loss: 0.5088 - acc: 0.9375\n",
            "Epoch 48/100\n",
            "16/16 [==============================] - 0s 102us/step - loss: 0.5042 - acc: 0.9375\n",
            "Epoch 49/100\n",
            "16/16 [==============================] - 0s 161us/step - loss: 0.4998 - acc: 0.9375\n",
            "Epoch 50/100\n",
            "16/16 [==============================] - 0s 211us/step - loss: 0.4952 - acc: 0.9375\n",
            "Epoch 51/100\n",
            "16/16 [==============================] - 0s 180us/step - loss: 0.4906 - acc: 0.9375\n",
            "Epoch 52/100\n",
            "16/16 [==============================] - 0s 175us/step - loss: 0.4861 - acc: 0.9375\n",
            "Epoch 53/100\n",
            "16/16 [==============================] - 0s 205us/step - loss: 0.4815 - acc: 0.9375\n",
            "Epoch 54/100\n",
            "16/16 [==============================] - 0s 123us/step - loss: 0.4769 - acc: 0.9375\n",
            "Epoch 55/100\n",
            "16/16 [==============================] - 0s 127us/step - loss: 0.4722 - acc: 0.9375\n",
            "Epoch 56/100\n",
            "16/16 [==============================] - 0s 222us/step - loss: 0.4676 - acc: 0.9375\n",
            "Epoch 57/100\n",
            "16/16 [==============================] - 0s 395us/step - loss: 0.4630 - acc: 0.9375\n",
            "Epoch 58/100\n",
            "16/16 [==============================] - 0s 328us/step - loss: 0.4584 - acc: 0.9375\n",
            "Epoch 59/100\n",
            "16/16 [==============================] - 0s 320us/step - loss: 0.4538 - acc: 0.9375\n",
            "Epoch 60/100\n",
            "16/16 [==============================] - 0s 211us/step - loss: 0.4492 - acc: 0.9375\n",
            "Epoch 61/100\n",
            "16/16 [==============================] - 0s 165us/step - loss: 0.4446 - acc: 0.9375\n",
            "Epoch 62/100\n",
            "16/16 [==============================] - 0s 134us/step - loss: 0.4399 - acc: 0.9375\n",
            "Epoch 63/100\n",
            "16/16 [==============================] - 0s 428us/step - loss: 0.4353 - acc: 0.9375\n",
            "Epoch 64/100\n",
            "16/16 [==============================] - 0s 134us/step - loss: 0.4307 - acc: 0.9375\n",
            "Epoch 65/100\n",
            "16/16 [==============================] - 0s 137us/step - loss: 0.4261 - acc: 0.9375\n",
            "Epoch 66/100\n",
            "16/16 [==============================] - 0s 183us/step - loss: 0.4215 - acc: 0.9375\n",
            "Epoch 67/100\n",
            "16/16 [==============================] - 0s 168us/step - loss: 0.4169 - acc: 0.9375\n",
            "Epoch 68/100\n",
            "16/16 [==============================] - 0s 152us/step - loss: 0.4123 - acc: 0.9375\n",
            "Epoch 69/100\n",
            "16/16 [==============================] - 0s 216us/step - loss: 0.4078 - acc: 0.9375\n",
            "Epoch 70/100\n",
            "16/16 [==============================] - 0s 426us/step - loss: 0.4032 - acc: 0.9375\n",
            "Epoch 71/100\n",
            "16/16 [==============================] - 0s 146us/step - loss: 0.3986 - acc: 0.9375\n",
            "Epoch 72/100\n",
            "16/16 [==============================] - 0s 160us/step - loss: 0.3941 - acc: 0.9375\n",
            "Epoch 73/100\n",
            "16/16 [==============================] - 0s 150us/step - loss: 0.3896 - acc: 0.9375\n",
            "Epoch 74/100\n",
            "16/16 [==============================] - 0s 145us/step - loss: 0.3850 - acc: 0.9375\n",
            "Epoch 75/100\n",
            "16/16 [==============================] - 0s 146us/step - loss: 0.3806 - acc: 0.9375\n",
            "Epoch 76/100\n",
            "16/16 [==============================] - 0s 126us/step - loss: 0.3761 - acc: 0.9375\n",
            "Epoch 77/100\n",
            "16/16 [==============================] - 0s 123us/step - loss: 0.3716 - acc: 0.9375\n",
            "Epoch 78/100\n",
            "16/16 [==============================] - 0s 122us/step - loss: 0.3672 - acc: 0.9375\n",
            "Epoch 79/100\n",
            "16/16 [==============================] - 0s 144us/step - loss: 0.3628 - acc: 0.9375\n",
            "Epoch 80/100\n",
            "16/16 [==============================] - 0s 169us/step - loss: 0.3584 - acc: 0.9375\n",
            "Epoch 81/100\n",
            "16/16 [==============================] - 0s 180us/step - loss: 0.3541 - acc: 0.9375\n",
            "Epoch 82/100\n",
            "16/16 [==============================] - 0s 177us/step - loss: 0.3498 - acc: 0.9375\n",
            "Epoch 83/100\n",
            "16/16 [==============================] - 0s 248us/step - loss: 0.3455 - acc: 0.9375\n",
            "Epoch 84/100\n",
            "16/16 [==============================] - 0s 170us/step - loss: 0.3412 - acc: 0.9375\n",
            "Epoch 85/100\n",
            "16/16 [==============================] - 0s 141us/step - loss: 0.3370 - acc: 0.9375\n",
            "Epoch 86/100\n",
            "16/16 [==============================] - 0s 196us/step - loss: 0.3327 - acc: 0.9375\n",
            "Epoch 87/100\n",
            "16/16 [==============================] - 0s 131us/step - loss: 0.3286 - acc: 0.9375\n",
            "Epoch 88/100\n",
            "16/16 [==============================] - 0s 154us/step - loss: 0.3244 - acc: 0.9375\n",
            "Epoch 89/100\n",
            "16/16 [==============================] - 0s 184us/step - loss: 0.3203 - acc: 0.9375\n",
            "Epoch 90/100\n",
            "16/16 [==============================] - 0s 140us/step - loss: 0.3162 - acc: 0.9375\n",
            "Epoch 91/100\n",
            "16/16 [==============================] - 0s 137us/step - loss: 0.3122 - acc: 0.9375\n",
            "Epoch 92/100\n",
            "16/16 [==============================] - 0s 130us/step - loss: 0.3082 - acc: 0.9375\n",
            "Epoch 93/100\n",
            "16/16 [==============================] - 0s 208us/step - loss: 0.3042 - acc: 0.9375\n",
            "Epoch 94/100\n",
            "16/16 [==============================] - 0s 134us/step - loss: 0.3002 - acc: 0.9375\n",
            "Epoch 95/100\n",
            "16/16 [==============================] - 0s 119us/step - loss: 0.2963 - acc: 0.9375\n",
            "Epoch 96/100\n",
            "16/16 [==============================] - 0s 158us/step - loss: 0.2924 - acc: 0.9375\n",
            "Epoch 97/100\n",
            "16/16 [==============================] - 0s 116us/step - loss: 0.2886 - acc: 0.9375\n",
            "Epoch 98/100\n",
            "16/16 [==============================] - 0s 118us/step - loss: 0.2848 - acc: 0.9375\n",
            "Epoch 99/100\n",
            "16/16 [==============================] - 0s 174us/step - loss: 0.2810 - acc: 0.9375\n",
            "Epoch 100/100\n",
            "16/16 [==============================] - 0s 109us/step - loss: 0.2773 - acc: 0.9375\n"
          ],
          "name": "stdout"
        },
        {
          "output_type": "execute_result",
          "data": {
            "text/plain": [
              "<keras.callbacks.History at 0x7fd4495d5cc0>"
            ]
          },
          "metadata": {
            "tags": []
          },
          "execution_count": 29
        }
      ]
    },
    {
      "cell_type": "code",
      "metadata": {
        "id": "msXvbKLrIV_d",
        "colab_type": "code",
        "colab": {
          "base_uri": "https://localhost:8080/",
          "height": 34
        },
        "outputId": "1ea18a8b-9314-454a-b59b-88434d67f07f"
      },
      "source": [
        "loss, accuracy = model.evaluate(padded_sentences, sentiments, verbose=0)\n",
        "print('Accuracy: %f' % (accuracy*100))"
      ],
      "execution_count": 30,
      "outputs": [
        {
          "output_type": "stream",
          "text": [
            "Accuracy: 93.750000\n"
          ],
          "name": "stdout"
        }
      ]
    }
  ]
}